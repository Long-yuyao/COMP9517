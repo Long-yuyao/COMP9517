{
 "cells": [
  {
   "cell_type": "code",
   "execution_count": 1,
   "metadata": {},
   "outputs": [],
   "source": [
    "# Task 1 (0.5 mark): Compute the SIFT features of the given image.\n",
    "# a) Extract SIFT features with default parameters and show the keypoints on the image.\n",
    "# b) To achieve better visualization of the keypoints, reduce the number of keypoints.\n",
    "# Hint: Vary the parameter contrastThreshold or nfeatures so that the number of\n",
    "# keypoints becomes about 10% of all default keypoints.\n",
    "# Submit the images obtained in a) and b) and mention the approach you used in b)"
   ]
  },
  {
   "cell_type": "code",
   "execution_count": null,
   "metadata": {},
   "outputs": [],
   "source": [
    "import cv2\n",
    "import matplotlib.pyplot as plt\n",
    "\n",
    "class SiftDetector():\n",
    "    def __init__(self, norm=\"L2\", params=None):\n",
    "        self.detector=self.get_detector(params)\n",
    "        self.norm=norm\n",
    "\n",
    "    def get_detector(self, params):\n",
    "        if params is None:\n",
    "            params={}\n",
    "            params[\"n_features\"]=0\n",
    "            params[\"n_octave_layers\"]=3\n",
    "            params[\"contrast_threshold\"]=0.04\n",
    "            params[\"edge_threshold\"]=10\n",
    "            params[\"sigma\"]=1.6\n",
    "\n",
    "        detector = cv2.xfeatures2d.SIFT_create(\n",
    "                nfeatures=params[\"n_features\"],\n",
    "                nOctaveLayers=params[\"n_octave_layers\"],\n",
    "                contrastThreshold=params[\"contrast_threshold\"],\n",
    "                edgeThreshold=params[\"edge_threshold\"],\n",
    "                sigma=params[\"sigma\"])\n",
    "\n",
    "        return detector"
   ]
  },
  {
   "cell_type": "code",
   "execution_count": null,
   "metadata": {},
   "outputs": [],
   "source": [
    "# Task1 (a) Extract SIFT features with default parameters and show the keypoints on the image\n",
    "img = cv2.imread(\"COMP9517_20T2_Lab2_Image.jpg\")\n",
    "gray = cv2.cvtColor(img, cv2.COLOR_BGR2GRAY)\n",
    "sd = SiftDetector()\n",
    "keypoints,des_a = sd.detector.detectAndCompute(gray,None)\n",
    "img_kp = cv2.drawKeypoints(gray,keypoints,None)\n",
    "cv2.imwrite(\"task1a_result.jpg\",img_kp)"
   ]
  },
  {
   "cell_type": "code",
   "execution_count": 21,
   "metadata": {},
   "outputs": [
    {
     "data": {
      "text/plain": [
       "True"
      ]
     },
     "execution_count": 21,
     "metadata": {},
     "output_type": "execute_result"
    }
   ],
   "source": [
    "# Task1 (b) To achieve better visualization of the keypoints, reduce the number of keypoints\n",
    "params = {\n",
    "#     The number of best features to retain. The features are ranked by their scores \n",
    "    'n_features': 0,\n",
    "    'n_octave_layers': 3,\n",
    "#     The larger the threshold, the less features are produced by the detector\n",
    "    'contrast_threshold': 0.14,\n",
    "    'edge_threshold': 10,\n",
    "    'sigma': 1.6\n",
    "}\n",
    "keypoints_b,des_b = sd.get_detector(params).detectAndCompute(gray,None)\n",
    "img_kp_b = cv2.drawKeypoints(gray,keypoints_b,None)\n",
    "cv2.imwrite(\"task1b_result.jpg\",img_kp_b)"
   ]
  },
  {
   "cell_type": "code",
   "execution_count": 5,
   "metadata": {},
   "outputs": [
    {
     "name": "stdout",
     "output_type": "stream",
     "text": [
      "Number of SIFI features:  5261\n",
      "Number of SIFI new features:  563\n",
      "Proportion of new: 0.1070138756890325\n"
     ]
    }
   ],
   "source": [
    "kp_len = len(keypoints)\n",
    "kp_new_len = len(keypoints_b)\n",
    "print(\"Number of SIFI features: \" ,kp_len)\n",
    "print(\"Number of SIFI new features: \" ,kp_new_len)\n",
    "print(\"Proportion of new:\",kp_new_len/kp_len)"
   ]
  },
  {
   "cell_type": "code",
   "execution_count": 6,
   "metadata": {},
   "outputs": [],
   "source": [
    "# Task2 Hint:\n",
    "# Upscale the image, compute SIFT features for rescaled image\n",
    "# Apply BFMatcher with defined params and ratio test to obtain good matches, and then select and draw best 5 matches\n",
    "\n",
    "# Task2 (a) Enlarge the given image by a scale percentage of 115\n",
    "img2 = cv2.imread(\"COMP9517_20T2_Lab2_Image.jpg\")\n",
    "gray2 = cv2.cvtColor(img2, cv2.COLOR_BGR2GRAY)\n",
    "width,height = gray2.shape\n",
    "larger_img = cv2.resize(gray2,(int(height*1.15),int(width*1.15)))"
   ]
  },
  {
   "cell_type": "code",
   "execution_count": 20,
   "metadata": {},
   "outputs": [
    {
     "data": {
      "text/plain": [
       "True"
      ]
     },
     "execution_count": 20,
     "metadata": {},
     "output_type": "execute_result"
    }
   ],
   "source": [
    "# Task2 (b) Extract the SIFT features and show the keypoints on the scaled image using the same\n",
    "# parameter setting as for Task 1\n",
    "keypoints_2b,des_2b = sd.get_detector(params).detectAndCompute(larger_img,None)\n",
    "img_kp_2b = cv2.drawKeypoints(larger_img,keypoints_2b,None)\n",
    "cv2.imwrite(\"task2b_result.jpg\",img_kp_2b)"
   ]
  },
  {
   "cell_type": "code",
   "execution_count": 8,
   "metadata": {},
   "outputs": [],
   "source": [
    "# Task2 (c) Inspect the keypoints visually: Are the keypoints of the scaled image roughly the same as\n",
    "# those of the original image? What does this observation imply"
   ]
  },
  {
   "cell_type": "markdown",
   "metadata": {},
   "source": [
    "Answer: The keypoints of the scaled image roughly the same as those of the original image. This observation implies that the scale of image will not change the keypoints."
   ]
  },
  {
   "cell_type": "code",
   "execution_count": 9,
   "metadata": {},
   "outputs": [
    {
     "data": {
      "text/plain": [
       "True"
      ]
     },
     "execution_count": 9,
     "metadata": {},
     "output_type": "execute_result"
    }
   ],
   "source": [
    "# Task2 (d) Match the SIFT descriptors of the keypoints of the scaled image with those of the original\n",
    "# image using the nearest-neighbour distance ratio method. Show the keypoints of the 5\n",
    "# best-matching descriptors on both the original and the scaled image.\n",
    "# Hint: Brute-force matching is available in OpenCV for feature matching\n",
    "\n",
    "# create BFMatcher object\n",
    "bf = cv2.BFMatcher()\n",
    "matches = bf.knnMatch(des_b,des_2b,k=2)\n",
    "fine_match = []\n",
    "for m,n in matches:\n",
    "    if m.distance < 0.7*n.distance:\n",
    "        fine_match.append(m)\n",
    "# cv2.drawMatchesKnn expects list of lists as matches.\n",
    "fine_match = sorted(fine_match,key = lambda x:x.distance)\n",
    "img_kp_2d = cv2.drawMatches(gray,keypoints_b,larger_img,keypoints_2b,fine_match[:5],None,flags=2)\n",
    "\n",
    "cv2.imwrite('task2d_result.jpg', img_kp_2d)"
   ]
  },
  {
   "cell_type": "code",
   "execution_count": 10,
   "metadata": {},
   "outputs": [],
   "source": [
    "# Task3 Hint: (with sampe code for the rotation)\n",
    "# Rotate the image and compute SIFT features for rotated image\n",
    "# Apply BFMatcher with defined params and ratio test to obtain good matches, and then select and draw best 5 matches\n",
    "import math\n",
    "import numpy as np\n",
    "import sys\n",
    "# Task3 (a) Rotate the given image clockwise by 60 degrees\n",
    "\n",
    "def rotate(image, x, y, angle):\n",
    "    rot_matrix = cv2.getRotationMatrix2D((x, y), angle, 1.0)\n",
    "    h, w = image.shape\n",
    "    return cv2.warpAffine(image, rot_matrix, (w, h))\n",
    "\n",
    "def get_img_center(image):\n",
    "    height, width = image.shape\n",
    "    center = height // 2, width // 2\n",
    "\n",
    "    return center\n",
    "img3 = cv2.imread(\"COMP9517_20T2_Lab2_Image.jpg\")\n",
    "gray3 = cv2.cvtColor(img3, cv2.COLOR_BGR2GRAY)\n",
    "center = get_img_center(gray3)\n",
    "rotated_img = rotate(gray3,center[0],center[1],-60)"
   ]
  },
  {
   "cell_type": "code",
   "execution_count": 11,
   "metadata": {},
   "outputs": [
    {
     "data": {
      "text/plain": [
       "True"
      ]
     },
     "execution_count": 11,
     "metadata": {},
     "output_type": "execute_result"
    }
   ],
   "source": [
    "# Task3 (b) Extract the SIFT features and show the keypoints on the rotated image using the same\n",
    "# parameter setting as for Task 1\n",
    "keypoints_3b,des_3b = sd.get_detector(params).detectAndCompute(rotated_img,None)\n",
    "img_kp_3b = cv2.drawKeypoints(rotated_img,keypoints_3b,None)\n",
    "cv2.imwrite(\"task3b_result.jpg\",img_kp_3b)"
   ]
  },
  {
   "cell_type": "code",
   "execution_count": 12,
   "metadata": {},
   "outputs": [
    {
     "data": {
      "text/plain": [
       "<matplotlib.image.AxesImage at 0x16849519d68>"
      ]
     },
     "execution_count": 12,
     "metadata": {},
     "output_type": "execute_result"
    },
    {
     "data": {
      "image/png": "[encoded data removed]",
      "text/plain": [
       "<Figure size 432x288 with 1 Axes>"
      ]
     },
     "metadata": {
      "needs_background": "light"
     },
     "output_type": "display_data"
    }
   ],
   "source": [
    "plt.imshow(img_kp_3b,'gray')"
   ]
  },
  {
   "cell_type": "code",
   "execution_count": 13,
   "metadata": {},
   "outputs": [],
   "source": [
    "# Task3 (c)\n",
    "# Inspect the keypoints visually: Are the keypoints of the rotated image roughly the same as\n",
    "# those of the original image? What does this observation imply?"
   ]
  },
  {
   "cell_type": "markdown",
   "metadata": {},
   "source": [
    "Answer: The keypoints of the rotated image roughly the same as those of the original image. This observation implies that rotating image will not change the keypoints."
   ]
  },
  {
   "cell_type": "code",
   "execution_count": 19,
   "metadata": {},
   "outputs": [
    {
     "data": {
      "text/plain": [
       "True"
      ]
     },
     "execution_count": 19,
     "metadata": {},
     "output_type": "execute_result"
    }
   ],
   "source": [
    "# Task3 (d)\n",
    "# Match the SIFT descriptors of the keypoints of the rotated image with those of the original\n",
    "# image using the nearest-neighbour distance ratio method. Show the keypoints of the 5\n",
    "# best-matching descriptors on both the original and the rotated image.\n",
    "matches_3d = bf.knnMatch(des_b,des_3b,k=2)\n",
    "fine_match_3d = []\n",
    "for m,n in matches_3d:\n",
    "    if m.distance < 0.7*n.distance:\n",
    "        fine_match_3d.append(m)\n",
    "fine_match_3d = sorted(fine_match_3d,key = lambda x:x.distance)\n",
    "img_kp_3d = cv2.drawMatches(gray,keypoints_b,rotated_img,keypoints_3b,fine_match_3d[:5],None,flags=2)\n",
    "\n",
    "cv2.imwrite('task3d_result.jpg', img_kp_3d)\n"
   ]
  }
 ],
 "metadata": {
  "kernelspec": {
   "display_name": "Python [conda env:py3.6]",
   "language": "python",
   "name": "conda-env-py3.6-py"
  },
  "language_info": {
   "codemirror_mode": {
    "name": "ipython",
    "version": 3
   },
   "file_extension": ".py",
   "mimetype": "text/x-python",
   "name": "python",
   "nbconvert_exporter": "python",
   "pygments_lexer": "ipython3",
   "version": "3.6.10"
  }
 },
 "nbformat": 4,
 "nbformat_minor": 2
}
