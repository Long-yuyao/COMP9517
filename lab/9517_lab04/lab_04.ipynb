{
 "cells": [
  {
   "cell_type": "code",
   "execution_count": 1,
   "metadata": {},
   "outputs": [],
   "source": [
    "from sklearn import metrics\n",
    "from sklearn.datasets import load_digits\n",
    "from sklearn.model_selection import train_test_split\n",
    "from sklearn.neighbors import KNeighborsClassifier\n",
    "from sklearn.linear_model import SGDClassifier\n",
    "from sklearn.tree import DecisionTreeClassifier"
   ]
  },
  {
   "cell_type": "code",
   "execution_count": 11,
   "metadata": {},
   "outputs": [],
   "source": [
    "from matplotlib import pyplot as plt\n",
    "import numpy as np"
   ]
  },
  {
   "cell_type": "markdown",
   "metadata": {},
   "source": [
    "Set up\n",
    "\n",
    "Step 1. Import relevant packages (most listed above).\n",
    "\n",
    "Step 2. Load the images using sklearn’s load_digits().\n",
    "Optional: Familiarize yourself with the dataset. For example, find out how many images and\n",
    "labels there are, the size of each image, and display some of the images and their labels. The\n",
    "following code will plot the first entry (digit 0):\n",
    "plt.imshow(np.reshape(digits.data[0], (8, 8)), cmap='gray')\n",
    "plt.title('Label: %i\\n' % digits.target[0], fontsize=25)\n",
    "\n",
    "Step 3. Split the images using sklearn’s train_test_split()with a test size anywhere\n",
    "from 20% to 30% (inclusive)"
   ]
  },
  {
   "cell_type": "code",
   "execution_count": 15,
   "metadata": {},
   "outputs": [],
   "source": [
    "digits = load_digits()"
   ]
  },
  {
   "cell_type": "code",
   "execution_count": 16,
   "metadata": {},
   "outputs": [
    {
     "data": {
      "text/plain": [
       "dict_keys(['data', 'target', 'frame', 'feature_names', 'target_names', 'images', 'DESCR'])"
      ]
     },
     "execution_count": 16,
     "metadata": {},
     "output_type": "execute_result"
    }
   ],
   "source": [
    "digits.keys()"
   ]
  },
  {
   "cell_type": "code",
   "execution_count": 17,
   "metadata": {},
   "outputs": [
    {
     "data": {
      "text/plain": [
       "Text(0.5, 1.0, 'Label: 0\\n')"
      ]
     },
     "execution_count": 17,
     "metadata": {},
     "output_type": "execute_result"
    },
    {
     "data": {
      "image/png": "[encoded data removed]",
      "text/plain": [
       "<Figure size 432x288 with 1 Axes>"
      ]
     },
     "metadata": {
      "needs_background": "light"
     },
     "output_type": "display_data"
    }
   ],
   "source": [
    "plt.imshow(np.reshape(digits.data[0], (8, 8)), cmap='gray')\n",
    "plt.title('Label: %i\\n' % digits.target[0], fontsize=25)"
   ]
  },
  {
   "cell_type": "code",
   "execution_count": 45,
   "metadata": {},
   "outputs": [],
   "source": [
    "X_train, X_test, y_train, y_test = train_test_split(digits.data,digits.target, test_size=0.25, random_state=0)"
   ]
  },
  {
   "cell_type": "markdown",
   "metadata": {},
   "source": [
    "Classification\n",
    "For each of the classifiers (KNeighborsClassifier, SGDClassifier, and\n",
    "DecisionTreeClassifier) perform the following steps:\n",
    "\n",
    "Step 4. Initialize the classifier model.\n",
    "\n",
    "Step 5. Fit the model to the training data.\n",
    "\n",
    "Step 6. Use the trained/fitted model to evaluate the test data."
   ]
  },
  {
   "cell_type": "code",
   "execution_count": 69,
   "metadata": {},
   "outputs": [],
   "source": [
    "# KNeighbors Classifier\n",
    "from sklearn.model_selection import GridSearchCV\n",
    "def knn():\n",
    "    knn = KNeighborsClassifier()\n",
    "#   Use grid search cv to find the best parameter here\n",
    "    k_range = {\"n_neighbors\":[2,3,4,5,6,7,8,9,10]}\n",
    "    gridKNN = GridSearchCV(knn,param_grid=k_range,cv=10)\n",
    "    gridKNN.fit(X_train,y_train)\n",
    "#     print('best score is:',str(gridKNN.best_score_))\n",
    "#     print('best params are:',str(gridKNN.best_params_))\n",
    "#   Fit gridkNN here\n",
    "    y_predict=gridKNN.predict(X_test)\n",
    "    # evaluation\n",
    "    accuracy_score=metrics.accuracy_score(y_test, y_predict)\n",
    "    print(\"KNN Accuracy: %0.3f\"%accuracy_score,end='\\t')\n",
    "    # recall score\n",
    "    recall_score=metrics.recall_score(y_test, y_predict, average='macro')\n",
    "    print(\"Recall: %0.3f\"%recall_score)\n",
    "    # confusion matrix\n",
    "    confusion_matrix=metrics.confusion_matrix(y_test, y_predict)\n",
    "    return confusion_matrix"
   ]
  },
  {
   "cell_type": "markdown",
   "metadata": {},
   "source": [
    "best score is: 0.9858872305140961\n",
    "\n",
    "best params are: {'n_neighbors': 5}"
   ]
  },
  {
   "cell_type": "code",
   "execution_count": 73,
   "metadata": {},
   "outputs": [],
   "source": [
    "# SGD Classifier\n",
    "def sgd():\n",
    "    sgd=SGDClassifier()\n",
    "    sgd.fit(X_train,y_train)\n",
    "    y_predict=sgd.predict(X_test)\n",
    "    # accuracy score\n",
    "    accuracy_score=metrics.accuracy_score(y_test, y_predict)\n",
    "    print(\"SGD Accuracy: %0.3f\"%accuracy_score,end='\\t')\n",
    "    # recall score\n",
    "    recall_score=metrics.recall_score(y_test, y_predict, average='macro')\n",
    "    print(\"Recall: %0.3f\"%recall_score)\n",
    "    confusion_matrix=metrics.confusion_matrix(y_test, y_predict)\n",
    "    return confusion_matrix"
   ]
  },
  {
   "cell_type": "code",
   "execution_count": 74,
   "metadata": {},
   "outputs": [],
   "source": [
    "# Decision Tree Classifier\n",
    "def dt():\n",
    "    dt=DecisionTreeClassifier(criterion=\"entropy\")\n",
    "    dt.fit(X_train,y_train)\n",
    "    y_predict=dt.predict(X_test)\n",
    "    # accuracy score\n",
    "    accuracy_score=metrics.accuracy_score(y_test, y_predict)\n",
    "    print(\"DT Accuracy: %0.3f\"%accuracy_score,end='\\t')\n",
    "    # recall score\n",
    "    recall_score=metrics.recall_score(y_test, y_predict, average='macro')\n",
    "    print(\"Recall: %0.3f\"%recall_score)\n",
    "    confusion_matrix=metrics.confusion_matrix(y_test, y_predict)\n",
    "    return confusion_matrix"
   ]
  },
  {
   "cell_type": "markdown",
   "metadata": {},
   "source": [
    "Print the accuracy and recall of all three classifiers and the confusion matrix of the bestperforming classifier. Submit a screenshot for marking (see the example below for the case\n",
    "of just a 6-class model). Also submit your code and include a brief justification for the chosen\n",
    "parameter settings for KNN"
   ]
  },
  {
   "cell_type": "code",
   "execution_count": 75,
   "metadata": {},
   "outputs": [
    {
     "name": "stdout",
     "output_type": "stream",
     "text": [
      "COMP9517 Week 5 Lab - z5225226\n",
      "\n",
      "Test size = 0.25\n",
      "KNN Accuracy: 0.980\tRecall: 0.980\n",
      "SGD Accuracy: 0.951\tRecall: 0.952\n",
      "DT Accuracy: 0.822\tRecall: 0.823\n",
      "KNN Accuracy: 0.980\tRecall: 0.980\n",
      "\n",
      "KNN Confusion Matrix:\n",
      "[[37  0  0  0  0  0  0  0  0  0]\n",
      " [ 0 42  0  0  0  1  0  0  0  0]\n",
      " [ 0  0 43  1  0  0  0  0  0  0]\n",
      " [ 0  0  0 45  0  0  0  0  0  0]\n",
      " [ 0  0  0  0 37  0  0  1  0  0]\n",
      " [ 0  0  0  0  0 47  0  0  0  1]\n",
      " [ 0  0  0  0  0  0 52  0  0  0]\n",
      " [ 0  0  0  0  0  0  0 48  0  0]\n",
      " [ 0  1  0  1  0  0  1  1 44  0]\n",
      " [ 0  0  0  0  0  1  0  0  0 46]]\n"
     ]
    }
   ],
   "source": [
    "# main\n",
    "print(\"COMP9517 Week 5 Lab - z5225226\")\n",
    "print()\n",
    "print(\"Test size = 0.25\")\n",
    "knn()\n",
    "sgd()\n",
    "dt()\n",
    "# from the evaluation, it is obviously that KNeighnbor is the best-performing classifier. Print its m=confusion matrix here\n",
    "matrix = knn()\n",
    "print()\n",
    "print(\"KNN Confusion Matrix:\")\n",
    "print(matrix)"
   ]
  },
  {
   "cell_type": "code",
   "execution_count": null,
   "metadata": {},
   "outputs": [],
   "source": []
  }
 ],
 "metadata": {
  "kernelspec": {
   "display_name": "Python [conda env:py3.6]",
   "language": "python",
   "name": "conda-env-py3.6-py"
  },
  "language_info": {
   "codemirror_mode": {
    "name": "ipython",
    "version": 3
   },
   "file_extension": ".py",
   "mimetype": "text/x-python",
   "name": "python",
   "nbconvert_exporter": "python",
   "pygments_lexer": "ipython3",
   "version": "3.6.10"
  }
 },
 "nbformat": 4,
 "nbformat_minor": 2
}
